{
 "cells": [
  {
   "cell_type": "code",
   "execution_count": null,
   "id": "4f418ed7-d567-4e26-a69a-3a36c29c118e",
   "metadata": {},
   "outputs": [],
   "source": [
    "##okokok"
   ]
  }
 ],
 "metadata": {
  "kernelspec": {
   "display_name": "R",
   "language": "R",
   "name": "ir"
  },
  "language_info": {
   "codemirror_mode": "r",
   "file_extension": ".r",
   "mimetype": "text/x-r-source",
   "name": "R",
   "pygments_lexer": "r",
   "version": "4.3.3"
  }
 },
 "nbformat": 4,
 "nbformat_minor": 5
}
